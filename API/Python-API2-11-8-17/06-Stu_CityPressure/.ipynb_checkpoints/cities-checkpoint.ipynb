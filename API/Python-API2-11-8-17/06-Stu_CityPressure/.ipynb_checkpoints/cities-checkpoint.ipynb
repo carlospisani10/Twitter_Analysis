{
 "cells": [
  {
   "cell_type": "code",
   "execution_count": 1,
   "metadata": {
    "collapsed": true
   },
   "outputs": [],
   "source": [
    "# Dependencies\n",
    "import matplotlib.pyplot as plt\n",
    "import requests as req\n",
    "import pandas as pd\n",
    "import json"
   ]
  },
  {
   "cell_type": "code",
   "execution_count": 2,
   "metadata": {},
   "outputs": [
    {
     "data": {
      "text/plain": [
       "'http://api.openweathermap.org/data/2.5/weather?appid=3bbb59b9e1903c30dafd32e52ec1e530&units=metric&q='"
      ]
     },
     "execution_count": 2,
     "metadata": {},
     "output_type": "execute_result"
    }
   ],
   "source": [
    "# Save config information.\n",
    "api_key = \"3bbb59b9e1903c30dafd32e52ec1e530\"\n",
    "url = \"http://api.openweathermap.org/data/2.5/weather?\"\n",
    "units = \"metric\"\n",
    "\n",
    "# Build partial query URL\n",
    "query_url = url + \"appid=\" + api_key + \"&units=\" + units + \"&q=\"\n",
    "query_url"
   ]
  },
  {
   "cell_type": "code",
   "execution_count": 3,
   "metadata": {
    "collapsed": true
   },
   "outputs": [],
   "source": [
    "weather_data = []\n",
    "cities = [\"Paris\",\"London\",\"Oslo\",\"Beijing\"]\n",
    "\n",
    "# Loop through the list of cities and perform a request for data on each\n",
    "for city in cities:\n",
    "    response = req.get(query_url + city).json()\n",
    "    weather_data.append(response)"
   ]
  },
  {
   "cell_type": "code",
   "execution_count": 4,
   "metadata": {},
   "outputs": [
    {
     "name": "stdout",
     "output_type": "stream",
     "text": [
      "{\n",
      "   \"coord\": {\n",
      "      \"lon\": 2.35,\n",
      "      \"lat\": 48.85\n",
      "   },\n",
      "   \"weather\": [\n",
      "      {\n",
      "         \"id\": 804,\n",
      "         \"main\": \"Clouds\",\n",
      "         \"description\": \"overcast clouds\",\n",
      "         \"icon\": \"04n\"\n",
      "      }\n",
      "   ],\n",
      "   \"base\": \"stations\",\n",
      "   \"main\": {\n",
      "      \"temp\": 5.86,\n",
      "      \"pressure\": 1023,\n",
      "      \"humidity\": 75,\n",
      "      \"temp_min\": 5,\n",
      "      \"temp_max\": 7\n",
      "   },\n",
      "   \"visibility\": 10000,\n",
      "   \"wind\": {\n",
      "      \"speed\": 2.1,\n",
      "      \"deg\": 340\n",
      "   },\n",
      "   \"clouds\": {\n",
      "      \"all\": 90\n",
      "   },\n",
      "   \"dt\": 1510189200,\n",
      "   \"sys\": {\n",
      "      \"type\": 1,\n",
      "      \"id\": 5617,\n",
      "      \"message\": 0.1662,\n",
      "      \"country\": \"FR\",\n",
      "      \"sunrise\": 1510210222,\n",
      "      \"sunset\": 1510244270\n",
      "   },\n",
      "   \"id\": 2988507,\n",
      "   \"name\": \"Paris\",\n",
      "   \"cod\": 200\n",
      "}\n",
      "{\n",
      "   \"coord\": {\n",
      "      \"lon\": -0.13,\n",
      "      \"lat\": 51.51\n",
      "   },\n",
      "   \"weather\": [\n",
      "      {\n",
      "         \"id\": 801,\n",
      "         \"main\": \"Clouds\",\n",
      "         \"description\": \"few clouds\",\n",
      "         \"icon\": \"02n\"\n",
      "      }\n",
      "   ],\n",
      "   \"base\": \"stations\",\n",
      "   \"main\": {\n",
      "      \"temp\": 2.12,\n",
      "      \"pressure\": 1025,\n",
      "      \"humidity\": 80,\n",
      "      \"temp_min\": 1,\n",
      "      \"temp_max\": 5\n",
      "   },\n",
      "   \"visibility\": 10000,\n",
      "   \"wind\": {\n",
      "      \"speed\": 2.6,\n",
      "      \"deg\": 220\n",
      "   },\n",
      "   \"clouds\": {\n",
      "      \"all\": 20\n",
      "   },\n",
      "   \"dt\": 1510188600,\n",
      "   \"sys\": {\n",
      "      \"type\": 1,\n",
      "      \"id\": 5091,\n",
      "      \"message\": 0.0066,\n",
      "      \"country\": \"GB\",\n",
      "      \"sunrise\": 1510211304,\n",
      "      \"sunset\": 1510244376\n",
      "   },\n",
      "   \"id\": 2643743,\n",
      "   \"name\": \"London\",\n",
      "   \"cod\": 200\n",
      "}\n",
      "{\n",
      "   \"coord\": {\n",
      "      \"lon\": 10.75,\n",
      "      \"lat\": 59.91\n",
      "   },\n",
      "   \"weather\": [\n",
      "      {\n",
      "         \"id\": 803,\n",
      "         \"main\": \"Clouds\",\n",
      "         \"description\": \"broken clouds\",\n",
      "         \"icon\": \"04n\"\n",
      "      }\n",
      "   ],\n",
      "   \"base\": \"stations\",\n",
      "   \"main\": {\n",
      "      \"temp\": 8,\n",
      "      \"pressure\": 1015,\n",
      "      \"humidity\": 81,\n",
      "      \"temp_min\": 8,\n",
      "      \"temp_max\": 8\n",
      "   },\n",
      "   \"visibility\": 10000,\n",
      "   \"wind\": {\n",
      "      \"speed\": 7.7,\n",
      "      \"deg\": 190\n",
      "   },\n",
      "   \"clouds\": {\n",
      "      \"all\": 75\n",
      "   },\n",
      "   \"dt\": 1510188600,\n",
      "   \"sys\": {\n",
      "      \"type\": 1,\n",
      "      \"id\": 5325,\n",
      "      \"message\": 0.1711,\n",
      "      \"country\": \"NO\",\n",
      "      \"sunrise\": 1510210776,\n",
      "      \"sunset\": 1510239670\n",
      "   },\n",
      "   \"id\": 3143244,\n",
      "   \"name\": \"Oslo\",\n",
      "   \"cod\": 200\n",
      "}\n",
      "{\n",
      "   \"coord\": {\n",
      "      \"lon\": 116.4,\n",
      "      \"lat\": 39.91\n",
      "   },\n",
      "   \"weather\": [\n",
      "      {\n",
      "         \"id\": 800,\n",
      "         \"main\": \"Clear\",\n",
      "         \"description\": \"clear sky\",\n",
      "         \"icon\": \"01d\"\n",
      "      }\n",
      "   ],\n",
      "   \"base\": \"stations\",\n",
      "   \"main\": {\n",
      "      \"temp\": 8,\n",
      "      \"pressure\": 1021,\n",
      "      \"humidity\": 61,\n",
      "      \"temp_min\": 8,\n",
      "      \"temp_max\": 8\n",
      "   },\n",
      "   \"visibility\": 10000,\n",
      "   \"wind\": {\n",
      "      \"speed\": 3,\n",
      "      \"deg\": 350\n",
      "   },\n",
      "   \"clouds\": {\n",
      "      \"all\": 0\n",
      "   },\n",
      "   \"dt\": 1510187400,\n",
      "   \"sys\": {\n",
      "      \"type\": 1,\n",
      "      \"id\": 7405,\n",
      "      \"message\": 0.1696,\n",
      "      \"country\": \"CN\",\n",
      "      \"sunrise\": 1510181530,\n",
      "      \"sunset\": 1510218224\n",
      "   },\n",
      "   \"id\": 1816670,\n",
      "   \"name\": \"Beijing\",\n",
      "   \"cod\": 200\n",
      "}\n"
     ]
    }
   ],
   "source": [
    "for x in weather_data:\n",
    "    print(json.dumps(x, indent=3))"
   ]
  },
  {
   "cell_type": "code",
   "execution_count": 6,
   "metadata": {},
   "outputs": [
    {
     "data": {
      "text/html": [
       "<div>\n",
       "<style>\n",
       "    .dataframe thead tr:only-child th {\n",
       "        text-align: right;\n",
       "    }\n",
       "\n",
       "    .dataframe thead th {\n",
       "        text-align: left;\n",
       "    }\n",
       "\n",
       "    .dataframe tbody tr th {\n",
       "        vertical-align: top;\n",
       "    }\n",
       "</style>\n",
       "<table border=\"1\" class=\"dataframe\">\n",
       "  <thead>\n",
       "    <tr style=\"text-align: right;\">\n",
       "      <th></th>\n",
       "      <th>lat</th>\n",
       "      <th>temp</th>\n",
       "    </tr>\n",
       "  </thead>\n",
       "  <tbody>\n",
       "    <tr>\n",
       "      <th>0</th>\n",
       "      <td>48.85</td>\n",
       "      <td>6.43</td>\n",
       "    </tr>\n",
       "    <tr>\n",
       "      <th>1</th>\n",
       "      <td>51.51</td>\n",
       "      <td>5.30</td>\n",
       "    </tr>\n",
       "    <tr>\n",
       "      <th>2</th>\n",
       "      <td>59.91</td>\n",
       "      <td>8.00</td>\n",
       "    </tr>\n",
       "    <tr>\n",
       "      <th>3</th>\n",
       "      <td>39.91</td>\n",
       "      <td>2.00</td>\n",
       "    </tr>\n",
       "  </tbody>\n",
       "</table>\n",
       "</div>"
      ],
      "text/plain": [
       "     lat  temp\n",
       "0  48.85  6.43\n",
       "1  51.51  5.30\n",
       "2  59.91  8.00\n",
       "3  39.91  2.00"
      ]
     },
     "execution_count": 6,
     "metadata": {},
     "output_type": "execute_result"
    }
   ],
   "source": [
    "# Extract interesting data from responses\n",
    "lat_data = [data.get(\"coord\").get(\"lat\") for data in weather_data]\n",
    "temp_data = [data.get(\"main\").get(\"temp\") for data in weather_data]\n",
    "\n",
    "weather_data = {\"temp\": temp_data, \"lat\": lat_data}\n",
    "weather_data = pd.DataFrame(weather_data)\n",
    "weather_data.head()"
   ]
  },
  {
   "cell_type": "code",
   "execution_count": 7,
   "metadata": {},
   "outputs": [
    {
     "data": {
      "image/png": "[encoded data removed]",
      "text/plain": [
       "<matplotlib.figure.Figure at 0x7621f50>"
      ]
     },
     "metadata": {},
     "output_type": "display_data"
    }
   ],
   "source": [
    "# Build a scatter plot for each data type\n",
    "plt.scatter(weather_data[\"lat\"], weather_data[\"temp\"], marker=\"o\")\n",
    "\n",
    "# Incorporate the other graph properties\n",
    "plt.title(\"Temperature in World Cities\")\n",
    "plt.ylabel(\"Temperature (Celsius)\")\n",
    "plt.xlabel(\"Latitude\")\n",
    "plt.grid(True)\n",
    "\n",
    "# Save the figure\n",
    "plt.savefig(\"TemperatureInWorldCities.png\")\n",
    "\n",
    "# Show plot\n",
    "plt.show()"
   ]
  },
  {
   "cell_type": "code",
   "execution_count": 8,
   "metadata": {},
   "outputs": [
    {
     "data": {
      "image/png": "[encoded data removed]",
      "text/plain": [
       "<matplotlib.figure.Figure at 0x7621e90>"
      ]
     },
     "metadata": {},
     "output_type": "display_data"
    }
   ],
   "source": [
    "# Creating with pandas plot\n",
    "weather_plot = weather_data.plot(kind=\"scatter\", x=\"lat\", y=\"temp\")\n",
    "weather_plot.set_xlabel(\"Latitude\")\n",
    "weather_plot.set_ylabel(\"Temperature (Celsius)\")\n",
    "weather_plot.set_title(\"Temperature in World Cities\")\n",
    "plt.grid(True)\n",
    "\n",
    "plt.show()"
   ]
  },
  {
   "cell_type": "code",
   "execution_count": null,
   "metadata": {
    "collapsed": true
   },
   "outputs": [],
   "source": []
  }
 ],
 "metadata": {
  "kernelspec": {
   "display_name": "Python [default]",
   "language": "python",
   "name": "python3"
  },
  "language_info": {
   "codemirror_mode": {
    "name": "ipython",
    "version": 3
   },
   "file_extension": ".py",
   "mimetype": "text/x-python",
   "name": "python",
   "nbconvert_exporter": "python",
   "pygments_lexer": "ipython3",
   "version": "3.6.3"
  }
 },
 "nbformat": 4,
 "nbformat_minor": 2
}
