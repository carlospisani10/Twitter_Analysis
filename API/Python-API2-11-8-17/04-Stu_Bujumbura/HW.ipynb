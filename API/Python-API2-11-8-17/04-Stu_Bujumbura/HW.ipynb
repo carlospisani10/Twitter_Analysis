{
 "cells": [
  {
   "cell_type": "code",
   "execution_count": null,
   "metadata": {
    "collapsed": true
   },
   "outputs": [],
   "source": [
    "#extract interting data from responses\n",
    "lat_data = [data.get(\"coord\").get(\"lat\") for data in weather_data]\n",
    "temp_data = data.get(\"coord\").get(\"lat\") for data in weather_data\n",
    "\n",
    "weather_data = {\"lat\" : lat_data, \"temp\" : temp_data"
   ]
  },
  {
   "cell_type": "code",
   "execution_count": null,
   "metadata": {
    "collapsed": true
   },
   "outputs": [],
   "source": []
  }
 ],
 "metadata": {
  "kernelspec": {
   "display_name": "Python 3",
   "language": "python",
   "name": "python3"
  },
  "language_info": {
   "codemirror_mode": {
    "name": "ipython",
    "version": 3
   },
   "file_extension": ".py",
   "mimetype": "text/x-python",
   "name": "python",
   "nbconvert_exporter": "python",
   "pygments_lexer": "ipython3",
   "version": "3.6.2"
  }
 },
 "nbformat": 4,
 "nbformat_minor": 2
}
