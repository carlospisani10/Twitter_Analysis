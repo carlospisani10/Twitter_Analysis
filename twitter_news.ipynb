{
 "cells": [
  {
   "cell_type": "code",
   "execution_count": 13,
   "metadata": {},
   "outputs": [],
   "source": [
    "import pandas as pd\n",
    "import tweepy\n",
    "import json\n",
    "import numpy as np\n",
    "from datetime import datetime\n",
    "import matplotlib.pyplot as plt\n",
    "\n",
    "# Twitter API Keys\n",
    "from config import (consumer_key, \n",
    "                    consumer_secret, \n",
    "                    access_token, \n",
    "                    access_token_secret)\n",
    "\n",
    "# Import and Initialize Sentiment Analyzer\n",
    "from vaderSentiment.vaderSentiment import SentimentIntensityAnalyzer\n",
    "analyzer = SentimentIntensityAnalyzer()\n",
    "\n",
    "# Setup Tweepy API Authentication\n",
    "auth = tweepy.OAuthHandler(consumer_key, consumer_secret)\n",
    "auth.set_access_token(access_token, access_token_secret)\n",
    "api = tweepy.API(auth, parser=tweepy.parsers.JSONParser())"
   ]
  },
  {
   "cell_type": "code",
   "execution_count": 30,
   "metadata": {},
   "outputs": [
    {
     "data": {
      "text/plain": [
       "500"
      ]
     },
     "execution_count": 30,
     "metadata": {},
     "output_type": "execute_result"
    }
   ],
   "source": [
    "target_terms = [\"@CBSNews\", \"@FoxNews\", \"@CNN\", \"@BBCNews\", \"@NYTimes\"]\n",
    "\n",
    "compound_list = []\n",
    "positive_list = []\n",
    "neutral_list = []\n",
    "negative_list = []\n",
    "source_list = []\n",
    "tweet_list = []\n",
    "date_list = []\n",
    "counter_list = []\n",
    "\n",
    "\n",
    "counter = 0\n",
    "for news in target_terms:\n",
    "    for x in range(5):\n",
    "        # Get all tweets from target user\n",
    "        public_tweets = api.user_timeline(news, page=x)\n",
    "        for tweet in public_tweets:\n",
    "            name = tweet[\"user\"][\"name\"]\n",
    "            date = tweet[\"created_at\"]\n",
    "            text = tweet[\"text\"]\n",
    "            results = analyzer.polarity_scores(tweet[\"text\"])\n",
    "            compound = results[\"compound\"]\n",
    "            pos = results[\"pos\"]\n",
    "            neu = results[\"neu\"]\n",
    "            neg = results[\"neg\"]\n",
    "            if counter == 100:\n",
    "                counter = 1\n",
    "            else: \n",
    "                counter = counter + 1\n",
    "            #append to list \n",
    "            source_list.append(name)\n",
    "            date_list.append(date)\n",
    "            tweet_list.append(text)\n",
    "            compound_list.append(compound)\n",
    "            positive_list.append(pos)\n",
    "            neutral_list.append(neu)\n",
    "            negative_list.append(neg)\n",
    "            counter_list.append(counter)\n",
    "\n",
    "len(negative_list)\n",
    "            "
   ]
  },
  {
   "cell_type": "code",
   "execution_count": 32,
   "metadata": {
    "scrolled": true
   },
   "outputs": [
    {
     "data": {
      "text/html": [
       "<div>\n",
       "<style>\n",
       "    .dataframe thead tr:only-child th {\n",
       "        text-align: right;\n",
       "    }\n",
       "\n",
       "    .dataframe thead th {\n",
       "        text-align: left;\n",
       "    }\n",
       "\n",
       "    .dataframe tbody tr th {\n",
       "        vertical-align: top;\n",
       "    }\n",
       "</style>\n",
       "<table border=\"1\" class=\"dataframe\">\n",
       "  <thead>\n",
       "    <tr style=\"text-align: right;\">\n",
       "      <th></th>\n",
       "      <th>Compound Score</th>\n",
       "      <th>Date</th>\n",
       "      <th>Negative Score</th>\n",
       "      <th>Neutral Score</th>\n",
       "      <th>News Station</th>\n",
       "      <th>Positive Score</th>\n",
       "      <th>Tweet</th>\n",
       "      <th>Tweets Ago</th>\n",
       "    </tr>\n",
       "  </thead>\n",
       "  <tbody>\n",
       "    <tr>\n",
       "      <th>0</th>\n",
       "      <td>-0.4588</td>\n",
       "      <td>Sat Dec 02 03:00:24 +0000 2017</td>\n",
       "      <td>0.286</td>\n",
       "      <td>0.714</td>\n",
       "      <td>CBS News</td>\n",
       "      <td>0.000</td>\n",
       "      <td>Navy commander sentenced for role in \"Fat Leon...</td>\n",
       "      <td>1</td>\n",
       "    </tr>\n",
       "    <tr>\n",
       "      <th>1</th>\n",
       "      <td>0.4678</td>\n",
       "      <td>Sat Dec 02 03:00:01 +0000 2017</td>\n",
       "      <td>0.000</td>\n",
       "      <td>0.845</td>\n",
       "      <td>CBS News</td>\n",
       "      <td>0.155</td>\n",
       "      <td>Comedy legend Carol Burnett is one of the funn...</td>\n",
       "      <td>2</td>\n",
       "    </tr>\n",
       "    <tr>\n",
       "      <th>2</th>\n",
       "      <td>-0.3384</td>\n",
       "      <td>Sat Dec 02 02:40:01 +0000 2017</td>\n",
       "      <td>0.138</td>\n",
       "      <td>0.862</td>\n",
       "      <td>CBS News</td>\n",
       "      <td>0.000</td>\n",
       "      <td>Analysis: Robert Mueller's investigation \"shou...</td>\n",
       "      <td>3</td>\n",
       "    </tr>\n",
       "    <tr>\n",
       "      <th>3</th>\n",
       "      <td>-0.2732</td>\n",
       "      <td>Sat Dec 02 02:20:01 +0000 2017</td>\n",
       "      <td>0.198</td>\n",
       "      <td>0.660</td>\n",
       "      <td>CBS News</td>\n",
       "      <td>0.142</td>\n",
       "      <td>United Nations war crimes tribunal orders inde...</td>\n",
       "      <td>4</td>\n",
       "    </tr>\n",
       "    <tr>\n",
       "      <th>4</th>\n",
       "      <td>-0.1531</td>\n",
       "      <td>Sat Dec 02 02:00:02 +0000 2017</td>\n",
       "      <td>0.147</td>\n",
       "      <td>0.734</td>\n",
       "      <td>CBS News</td>\n",
       "      <td>0.119</td>\n",
       "      <td>Seeing potential in a Minnesota woman addicted...</td>\n",
       "      <td>5</td>\n",
       "    </tr>\n",
       "  </tbody>\n",
       "</table>\n",
       "</div>"
      ],
      "text/plain": [
       "   Compound Score                            Date  Negative Score  \\\n",
       "0         -0.4588  Sat Dec 02 03:00:24 +0000 2017           0.286   \n",
       "1          0.4678  Sat Dec 02 03:00:01 +0000 2017           0.000   \n",
       "2         -0.3384  Sat Dec 02 02:40:01 +0000 2017           0.138   \n",
       "3         -0.2732  Sat Dec 02 02:20:01 +0000 2017           0.198   \n",
       "4         -0.1531  Sat Dec 02 02:00:02 +0000 2017           0.147   \n",
       "\n",
       "   Neutral Score News Station  Positive Score  \\\n",
       "0          0.714     CBS News           0.000   \n",
       "1          0.845     CBS News           0.155   \n",
       "2          0.862     CBS News           0.000   \n",
       "3          0.660     CBS News           0.142   \n",
       "4          0.734     CBS News           0.119   \n",
       "\n",
       "                                               Tweet  Tweets Ago  \n",
       "0  Navy commander sentenced for role in \"Fat Leon...           1  \n",
       "1  Comedy legend Carol Burnett is one of the funn...           2  \n",
       "2  Analysis: Robert Mueller's investigation \"shou...           3  \n",
       "3  United Nations war crimes tribunal orders inde...           4  \n",
       "4  Seeing potential in a Minnesota woman addicted...           5  "
      ]
     },
     "execution_count": 32,
     "metadata": {},
     "output_type": "execute_result"
    }
   ],
   "source": [
    "news_df = pd.DataFrame(\n",
    "    {'News Station': source_list,\n",
    "     'Tweet': tweet_list,\n",
    "     'Date': date_list,\n",
    "     'Tweets Ago': counter_list,\n",
    "     'Compound Score': compound_list,\n",
    "     'Positive Score': positive_list,\n",
    "     'Neutral Score': neutral_list,\n",
    "     'Negative Score': negative_list\n",
    "    })\n",
    "news_df.head()"
   ]
  },
  {
   "cell_type": "code",
   "execution_count": 43,
   "metadata": {},
   "outputs": [
    {
     "data": {
      "text/plain": [
       "array(['CBS News', 'Fox News', 'CNN', 'BBC News (UK)', 'The New York Times'], dtype=object)"
      ]
     },
     "execution_count": 43,
     "metadata": {},
     "output_type": "execute_result"
    }
   ],
   "source": [
    "news_df = news_df[['News Station', 'Tweet', 'Date', 'Tweets Ago', 'Compound Score', 'Positive Score', 'Neutral Score', 'Negative Score']]\n",
    "news_df.to_csv(\"CSV/DataFrame.csv\")\n",
    "news_df[\"News Station\"].unique()\n"
   ]
  },
  {
   "cell_type": "code",
   "execution_count": 41,
   "metadata": {},
   "outputs": [
    {
     "data": {
      "text/html": [
       "<div>\n",
       "<style>\n",
       "    .dataframe thead tr:only-child th {\n",
       "        text-align: right;\n",
       "    }\n",
       "\n",
       "    .dataframe thead th {\n",
       "        text-align: left;\n",
       "    }\n",
       "\n",
       "    .dataframe tbody tr th {\n",
       "        vertical-align: top;\n",
       "    }\n",
       "</style>\n",
       "<table border=\"1\" class=\"dataframe\">\n",
       "  <thead>\n",
       "    <tr style=\"text-align: right;\">\n",
       "      <th></th>\n",
       "      <th>News Station</th>\n",
       "      <th>Tweets Ago</th>\n",
       "      <th>Compound Score</th>\n",
       "    </tr>\n",
       "  </thead>\n",
       "  <tbody>\n",
       "    <tr>\n",
       "      <th>0</th>\n",
       "      <td>CBS News</td>\n",
       "      <td>1</td>\n",
       "      <td>-0.4588</td>\n",
       "    </tr>\n",
       "    <tr>\n",
       "      <th>1</th>\n",
       "      <td>CBS News</td>\n",
       "      <td>2</td>\n",
       "      <td>0.4678</td>\n",
       "    </tr>\n",
       "    <tr>\n",
       "      <th>2</th>\n",
       "      <td>CBS News</td>\n",
       "      <td>3</td>\n",
       "      <td>-0.3384</td>\n",
       "    </tr>\n",
       "    <tr>\n",
       "      <th>3</th>\n",
       "      <td>CBS News</td>\n",
       "      <td>4</td>\n",
       "      <td>-0.2732</td>\n",
       "    </tr>\n",
       "    <tr>\n",
       "      <th>4</th>\n",
       "      <td>CBS News</td>\n",
       "      <td>5</td>\n",
       "      <td>-0.1531</td>\n",
       "    </tr>\n",
       "  </tbody>\n",
       "</table>\n",
       "</div>"
      ],
      "text/plain": [
       "  News Station  Tweets Ago  Compound Score\n",
       "0     CBS News           1         -0.4588\n",
       "1     CBS News           2          0.4678\n",
       "2     CBS News           3         -0.3384\n",
       "3     CBS News           4         -0.2732\n",
       "4     CBS News           5         -0.1531"
      ]
     },
     "execution_count": 41,
     "metadata": {},
     "output_type": "execute_result"
    }
   ],
   "source": [
    "#plot the compouund sentiment scores\n",
    "#(austin_df['Outcome_Type'] == \"Adoption\")\n",
    "cbs_df=news_df.loc[(news_df['News Station'] == \"CBS News\") , [\"News Station\", \"Tweets Ago\", \"Compound Score\"]]\n",
    "cbs_df.head()"
   ]
  },
  {
   "cell_type": "code",
   "execution_count": null,
   "metadata": {
    "collapsed": true
   },
   "outputs": [],
   "source": [
    "cbs_df=news_df.loc[(news_df['News Station'] == \"CBS News\") , [\"News Station\", \"Tweets Ago\", \"Compound Score\"]]\n",
    "cbs_df.head()"
   ]
  },
  {
   "cell_type": "code",
   "execution_count": null,
   "metadata": {
    "collapsed": true
   },
   "outputs": [],
   "source": [
    "cbs_df=news_df.loc[(news_df['News Station'] == \"CBS News\") , [\"News Station\", \"Tweets Ago\", \"Compound Score\"]]\n",
    "cbs_df.head()"
   ]
  },
  {
   "cell_type": "code",
   "execution_count": null,
   "metadata": {
    "collapsed": true
   },
   "outputs": [],
   "source": [
    "cbs_df=news_df.loc[(news_df['News Station'] == \"CBS News\") , [\"News Station\", \"Tweets Ago\", \"Compound Score\"]]\n",
    "cbs_df.head()"
   ]
  },
  {
   "cell_type": "code",
   "execution_count": null,
   "metadata": {
    "collapsed": true
   },
   "outputs": [],
   "source": [
    "cbs_df=news_df.loc[(news_df['News Station'] == \"CBS News\") , [\"News Station\", \"Tweets Ago\", \"Compound Score\"]]\n",
    "cbs_df.head()"
   ]
  },
  {
   "cell_type": "code",
   "execution_count": 40,
   "metadata": {},
   "outputs": [
    {
     "data": {
      "image/png": "[encoded data removed]",
      "text/plain": [
       "<matplotlib.figure.Figure at 0x2573fcdd400>"
      ]
     },
     "metadata": {},
     "output_type": "display_data"
    }
   ],
   "source": [
    "x_axis = compound_df[\"Tweets Ago\"]\n",
    "data = compound_df[\"Compound Score\"]\n",
    "plt.scatter(x_axis, data, marker=\"o\", facecolors=\"red\", edgecolors=\"black\",\n",
    "            alpha=0.75)\n",
    "\n",
    "plt.show()"
   ]
  },
  {
   "cell_type": "code",
   "execution_count": 45,
   "metadata": {},
   "outputs": [
    {
     "data": {
      "text/plain": [
       "News Station\n",
       "BBC News (UK)        -0.135072\n",
       "CBS News             -0.119658\n",
       "CNN                  -0.014202\n",
       "Fox News             -0.149389\n",
       "The New York Times   -0.098724\n",
       "Name: Compound Score, dtype: float64"
      ]
     },
     "execution_count": 45,
     "metadata": {},
     "output_type": "execute_result"
    }
   ],
   "source": [
    "#Bar Chart\n",
    "group_df = news_df.groupby(\"News Station\")\n",
    "bar_df = group_df[\"Compound Score\"].mean()\n",
    "bar_df"
   ]
  },
  {
   "cell_type": "code",
   "execution_count": null,
   "metadata": {
    "collapsed": true
   },
   "outputs": [],
   "source": []
  }
 ],
 "metadata": {
  "kernelspec": {
   "display_name": "Python 3",
   "language": "python",
   "name": "python3"
  },
  "language_info": {
   "codemirror_mode": {
    "name": "ipython",
    "version": 3
   },
   "file_extension": ".py",
   "mimetype": "text/x-python",
   "name": "python",
   "nbconvert_exporter": "python",
   "pygments_lexer": "ipython3",
   "version": "3.6.3"
  }
 },
 "nbformat": 4,
 "nbformat_minor": 2
}
